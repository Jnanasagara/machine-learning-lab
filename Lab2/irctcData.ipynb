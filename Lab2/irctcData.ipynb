{
 "cells": [
  {
   "cell_type": "code",
   "execution_count": 1,
   "id": "ff6f0498",
   "metadata": {},
   "outputs": [
    {
     "name": "stdout",
     "output_type": "stream",
     "text": [
      "             Date Month  Day     Price      Open      High       Low   Volume  \\\n",
      "0    Jun 29, 2021   Jun  Tue  2,081.85  2,092.00  2,126.90  2,065.05    1.67M   \n",
      "1    Jun 28, 2021   Jun  Mon  2,077.75  2,084.00  2,112.45  2,068.40  707.73K   \n",
      "2    Jun 25, 2021   Jun  Fri  2,068.85  2,084.35  2,088.50  2,053.10  475.82K   \n",
      "3    Jun 24, 2021   Jun  Thu  2,072.95  2,098.00  2,098.00  2,066.00  541.51K   \n",
      "4    Jun 23, 2021   Jun  Wed  2,078.25  2,102.00  2,111.40  2,072.00  809.62K   \n",
      "..            ...   ...  ...       ...       ...       ...       ...      ...   \n",
      "254           NaN   NaN  NaN       NaN       NaN       NaN       NaN      NaN   \n",
      "255           NaN   NaN  NaN       NaN       NaN       NaN       NaN      NaN   \n",
      "256           NaN   NaN  NaN       NaN       NaN       NaN       NaN      NaN   \n",
      "257           NaN   NaN  NaN       NaN       NaN       NaN       NaN      NaN   \n",
      "258           NaN   NaN  NaN       NaN       NaN       NaN       NaN      NaN   \n",
      "\n",
      "       Chg%  Unnamed: 9  Unnamed: 10  \n",
      "0     0.20%         NaN          NaN  \n",
      "1     0.43%         NaN          NaN  \n",
      "2    -0.20%         NaN          NaN  \n",
      "3    -0.26%         NaN          NaN  \n",
      "4    -0.23%         NaN          NaN  \n",
      "..      ...         ...          ...  \n",
      "254     NaN         NaN          NaN  \n",
      "255     NaN         NaN          NaN  \n",
      "256     NaN         NaN          NaN  \n",
      "257     NaN         NaN          NaN  \n",
      "258     NaN         NaN          NaN  \n",
      "\n",
      "[259 rows x 11 columns]\n",
      "\n",
      "\n",
      "[['Jun 29, 2021' 'Jun' 'Tue' ... '2,065.05' '1.67M' '0.20%']\n",
      " ['Jun 28, 2021' 'Jun' 'Mon' ... '2,068.40' '707.73K' '0.43%']\n",
      " ['Jun 25, 2021' 'Jun' 'Fri' ... '2,053.10' '475.82K' '-0.20%']\n",
      " ...\n",
      " [nan nan nan ... nan nan nan]\n",
      " [nan nan nan ... nan nan nan]\n",
      " [nan nan nan ... nan nan nan]]\n"
     ]
    }
   ],
   "source": [
    "import pandas as pd \n",
    "import numpy as np\n",
    "\n",
    "df = pd.read_csv('E:/COLLEGE PDFS/5TH SEMESTER/Machine Learning/irctcData.csv') \n",
    "print(df)\n",
    "print(\"\\n\")\n",
    "\n",
    "X = df[['Date', 'Month', 'Day', 'Price', 'Open', 'High', 'Low', 'Volume', 'Chg%']].values    \n",
    "print(X)"
   ]
  }
 ],
 "metadata": {
  "kernelspec": {
   "display_name": ".venv",
   "language": "python",
   "name": "python3"
  },
  "language_info": {
   "codemirror_mode": {
    "name": "ipython",
    "version": 3
   },
   "file_extension": ".py",
   "mimetype": "text/x-python",
   "name": "python",
   "nbconvert_exporter": "python",
   "pygments_lexer": "ipython3",
   "version": "3.13.1"
  }
 },
 "nbformat": 4,
 "nbformat_minor": 5
}
