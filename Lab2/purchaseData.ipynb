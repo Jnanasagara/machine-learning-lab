{
 "cells": [
  {
   "cell_type": "code",
   "execution_count": 23,
   "id": "e9b40a3f",
   "metadata": {},
   "outputs": [
    {
     "name": "stdout",
     "output_type": "stream",
     "text": [
      "  Customer  Candies (#)  Mangoes (Kg)  Milk Packets (#)  Payment (Rs)\n",
      "0      C_1           20             6                 2           386\n",
      "1      C_2           16             3                 6           289\n",
      "2      C_3           27             6                 2           393\n",
      "3      C_4           19             1                 2           110\n",
      "4      C_5           24             4                 2           280\n",
      "5      C_6           22             1                 5           167\n",
      "6      C_7           15             4                 2           271\n",
      "7      C_8           18             4                 2           274\n",
      "8      C_9           21             1                 4           148\n",
      "9     C_10           16             2                 4           198\n",
      "\n",
      "\n",
      "Matrix A : \n",
      " [[20  6  2]\n",
      " [16  3  6]\n",
      " [27  6  2]\n",
      " [19  1  2]\n",
      " [24  4  2]\n",
      " [22  1  5]\n",
      " [15  4  2]\n",
      " [18  4  2]\n",
      " [21  1  4]\n",
      " [16  2  4]]\n",
      "\n",
      "Matrix C : \n",
      " [386 289 393 110 280 167 271 274 148 198]\n"
     ]
    }
   ],
   "source": [
    "import pandas as pd\n",
    "import numpy as np\n",
    "dataframe = pd.read_csv('E:/COLLEGE PDFS/5TH SEMESTER/Machine Learning/purchaseData.csv')\n",
    "print(dataframe)\n",
    "print(\"\\n\")\n",
    "A = dataframe[['Candies (#)', 'Mangoes (Kg)', 'Milk Packets (#)']].values\n",
    "C = dataframe['Payment (Rs)'].values\n",
    "\n",
    "print(\"Matrix A : \\n\", A)\n",
    "print(\"\\nMatrix C : \\n\", C)"
   ]
  },
  {
   "cell_type": "code",
   "execution_count": 28,
   "id": "4920d687",
   "metadata": {},
   "outputs": [
    {
     "name": "stdout",
     "output_type": "stream",
     "text": [
      "Dimentionality of the vector space : 3\n",
      "Number of vectors in vector space:  10\n",
      "Rank:  3 \n",
      "\n",
      "Cost per product:\n",
      "Price per Candy: ₹1.00\n",
      "Price per Kg of Mangoes: ₹55.00\n",
      "Price per Milk Packet: ₹18.00\n"
     ]
    }
   ],
   "source": [
    "dimension = A.shape[1]\n",
    "print(\"Dimentionality of the vector space :\", dimension)\n",
    "\n",
    "num = A.shape[0]\n",
    "print(\"Number of vectors in vector space: \", num)\n",
    "\n",
    "rank = np.linalg.matrix_rank(A)\n",
    "print(\"Rank: \", rank, \"\\n\")\n",
    "\n",
    "A_pseudo_inv = np.linalg.pinv(A)\n",
    "X = A_pseudo_inv @ C\n",
    "\n",
    "print(\"Cost per product:\")\n",
    "print(f\"Price per Candy: ₹{X[0]:.2f}\")\n",
    "print(f\"Price per Kg of Mangoes: ₹{X[1]:.2f}\")\n",
    "print(f\"Price per Milk Packet: ₹{X[2]:.2f}\")"
   ]
  },
  {
   "cell_type": "code",
   "execution_count": null,
   "id": "4623e815",
   "metadata": {},
   "outputs": [],
   "source": []
  }
 ],
 "metadata": {
  "kernelspec": {
   "display_name": ".venv",
   "language": "python",
   "name": "python3"
  },
  "language_info": {
   "codemirror_mode": {
    "name": "ipython",
    "version": 3
   },
   "file_extension": ".py",
   "mimetype": "text/x-python",
   "name": "python",
   "nbconvert_exporter": "python",
   "pygments_lexer": "ipython3",
   "version": "3.13.1"
  }
 },
 "nbformat": 4,
 "nbformat_minor": 5
}
