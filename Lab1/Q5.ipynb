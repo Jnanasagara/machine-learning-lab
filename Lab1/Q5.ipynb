{
 "cells": [
  {
   "cell_type": "markdown",
   "id": "13ae57ee",
   "metadata": {},
   "source": [
    "#Generate a list of 25 random numbers between 1 and 10. Find the mean, median and mode \n",
    "for these numbers. "
   ]
  },
  {
   "cell_type": "code",
   "execution_count": null,
   "id": "014e1816",
   "metadata": {},
   "outputs": [
    {
     "name": "stdout",
     "output_type": "stream",
     "text": [
      "Random 25 list of numbers between 1 and 10:  [4, 8, 5, 5, 7, 1, 2, 2, 8, 6, 9, 8, 9, 4, 3, 1, 7, 1, 10, 5, 8, 5, 2, 2, 4]\n",
      "Mean: 5.04\n",
      "Median: 5\n",
      "Mode: 8\n"
     ]
    }
   ],
   "source": [
    "import random\n",
    "from statistics import mean \n",
    "from statistics import median\n",
    "from statistics import mode\n",
    "\n",
    "def calc_stats(nums):\n",
    "    mean_val = mean(nums)       #Calculate the mean\n",
    "    median_val = median(nums)   #Calculate the median\n",
    "    mode_val = mode(nums)       #Calculate the mode\n",
    "    return mean_val, median_val, mode_val\n",
    "\n",
    "def main():\n",
    "    nums = [random.randint(1,10) for _ in range(25)]    #Generate 25 random numbers between 1 and 10\n",
    "    print(\"Random 25 list of numbers between 1 and 10: \", nums)\n",
    "    res = calc_stats(nums)\n",
    "    print(f\"Mean: {res[0]}\")\n",
    "    print(f\"Median: {res[1]}\")\n",
    "    print(f\"Mode: {res[2]}\")\n",
    "    \n",
    "if __name__ == \"__main__\":\n",
    "    main()"
   ]
  }
 ],
 "metadata": {
  "kernelspec": {
   "display_name": ".venv",
   "language": "python",
   "name": "python3"
  },
  "language_info": {
   "codemirror_mode": {
    "name": "ipython",
    "version": 3
   },
   "file_extension": ".py",
   "mimetype": "text/x-python",
   "name": "python",
   "nbconvert_exporter": "python",
   "pygments_lexer": "ipython3",
   "version": "3.13.1"
  }
 },
 "nbformat": 4,
 "nbformat_minor": 5
}
