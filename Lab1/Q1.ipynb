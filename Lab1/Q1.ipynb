{
 "cells": [
  {
   "cell_type": "markdown",
   "id": "c6a8f7b1",
   "metadata": {},
   "source": [
    "Consider the given list as [2, 7, 4, 1, 3, 6]. Write a program to count pairs of elements with \n",
    "sum equal to 10.\n",
    "\n",
    "#O(n^2)"
   ]
  },
  {
   "cell_type": "code",
   "execution_count": null,
   "id": "9923c19d",
   "metadata": {},
   "outputs": [
    {
     "name": "stdout",
     "output_type": "stream",
     "text": [
      "With O(n^2) complexity\n",
      "There are 2 pairs of numbers that sum to 10\n"
     ]
    }
   ],
   "source": [
    "def count_pairs_of_sum_10(nums):\n",
    "    count = 0                           #set count to 0\n",
    "    for i in range(len(nums)):\n",
    "        for j in range(i+1, len(nums)):\n",
    "            if nums[i] + nums[j] == 10: #check if the sum of two numbers is 10\n",
    "                count += 1              #if sum = 10 , increment count by 1\n",
    "    \n",
    "    return count\n",
    "\n",
    "def main():\n",
    "    nums = [2, 7, 4, 1, 3, 6]\n",
    "    pairs = count_pairs_of_sum_10(nums)\n",
    "    print(\"With O(n^2) complexity\")\n",
    "    print(\"There are \" + str(pairs) + \" pairs of numbers that sum to 10\")\n",
    "    \n",
    "if __name__ == \"__main__\":\n",
    "    main()"
   ]
  },
  {
   "cell_type": "markdown",
   "id": "9a43168f",
   "metadata": {},
   "source": [
    "#O(n)"
   ]
  },
  {
   "cell_type": "code",
   "execution_count": null,
   "id": "cfe2c11b",
   "metadata": {},
   "outputs": [
    {
     "name": "stdout",
     "output_type": "stream",
     "text": [
      "With O(n) complexity\n",
      "There are 2 pairs of numbers that sum up to 10\n"
     ]
    }
   ],
   "source": [
    "def count_pairs_of_sum_10(nums):\n",
    "    req = set()         #create an empty set\n",
    "    count = 0           #set count to 0\n",
    "    \n",
    "    for num in nums:\n",
    "        diff = 10 - num     #calculate the difference between 10 and the current number\n",
    "        if diff in req:\n",
    "            count += 1      #if the difference is in the set, increment the count\n",
    "        req.add(num)        #if num not in se, add the current number to the set\n",
    "    \n",
    "    return count\n",
    "\n",
    "def main():\n",
    "    nums = [2, 7, 4, 1, 3, 6]\n",
    "    pairs = count_pairs_of_sum_10(nums)\n",
    "    print(\"With O(n) complexity\")\n",
    "    print(\"There are \" + str(pairs) + \" pairs of numbers that sum up to 10\")\n",
    "    \n",
    "if __name__ == \"__main__\":\n",
    "    main()"
   ]
  }
 ],
 "metadata": {
  "kernelspec": {
   "display_name": ".venv",
   "language": "python",
   "name": "python3"
  },
  "language_info": {
   "codemirror_mode": {
    "name": "ipython",
    "version": 3
   },
   "file_extension": ".py",
   "mimetype": "text/x-python",
   "name": "python",
   "nbconvert_exporter": "python",
   "pygments_lexer": "ipython3",
   "version": "3.13.1"
  }
 },
 "nbformat": 4,
 "nbformat_minor": 5
}
