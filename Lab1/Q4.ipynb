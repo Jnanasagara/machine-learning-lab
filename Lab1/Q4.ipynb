{
 "cells": [
  {
   "cell_type": "markdown",
   "id": "3ba2958d",
   "metadata": {},
   "source": [
    "#Write a program to count the highest occurring character & its occurrence count in an input \n",
    "string. Consider only alphabets. Ex:  for “hippopotamus” as input string, the maximally \n",
    "occurring character is ‘p’ & occurrence count is 3."
   ]
  },
  {
   "cell_type": "code",
   "execution_count": null,
   "id": "48ee0daa",
   "metadata": {},
   "outputs": [
    {
     "name": "stdout",
     "output_type": "stream",
     "text": [
      "The character 'p' occurs 3 times in the string\n"
     ]
    }
   ],
   "source": [
    "def count_occ(str):\n",
    "    occ = {}\n",
    "    \n",
    "    for char in str:\n",
    "        if char.isalpha():      #Check if the character is a letter\n",
    "            char = char.lower()    \n",
    "            occ[char] = occ.get(char, 0) + 1    #Count the occurrences of each letter\n",
    "    \n",
    "    if not occ:\n",
    "        return 0\n",
    "    \n",
    "    maxChar = max(occ, key=occ.get)     #Find the letter with the highest count\n",
    "    return maxChar, occ[maxChar]        \n",
    "\n",
    "def main():\n",
    "    str = \"hippopotamus\"\n",
    "    char, count = count_occ(str)\n",
    "    if char:\n",
    "        print(f\"The character '{char}' occurs {count} times in the string\")\n",
    "    else:\n",
    "        print(\"No alphabets\")\n",
    "    \n",
    "if __name__ == \"__main__\":\n",
    "    main()"
   ]
  }
 ],
 "metadata": {
  "kernelspec": {
   "display_name": ".venv",
   "language": "python",
   "name": "python3"
  },
  "language_info": {
   "codemirror_mode": {
    "name": "ipython",
    "version": 3
   },
   "file_extension": ".py",
   "mimetype": "text/x-python",
   "name": "python",
   "nbconvert_exporter": "python",
   "pygments_lexer": "ipython3",
   "version": "3.13.1"
  }
 },
 "nbformat": 4,
 "nbformat_minor": 5
}
