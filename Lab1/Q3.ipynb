{
 "cells": [
  {
   "cell_type": "markdown",
   "id": "d32fc141",
   "metadata": {},
   "source": [
    "#Write a program that accepts a square matrix A and a positive integer m as arguments and \n",
    "returns Am. "
   ]
  },
  {
   "cell_type": "code",
   "execution_count": null,
   "id": "4badb612",
   "metadata": {},
   "outputs": [
    {
     "name": "stdout",
     "output_type": "stream",
     "text": [
      "\n",
      "Matrix raised to power 3:\n",
      "37 54\n",
      "81 118\n"
     ]
    }
   ],
   "source": [
    "# Builds a square matrix from a flat list of numbers\n",
    "def create_matrix(n, nums):\n",
    "    if len(nums) != n * n:\n",
    "        raise ValueError(f\"Expected {n*n} numbers.\")\n",
    "    return [nums[i * n:(i + 1) * n] for i in range(n)]\n",
    "\n",
    "# Multiplies two square matrices\n",
    "def mult(mat1, mat2):\n",
    "    n = len(mat1)\n",
    "    result = [[0] * n for _ in range(n)]\n",
    "    for i in range(n):\n",
    "        for j in range(n):\n",
    "            for k in range(n):\n",
    "                result[i][j] += mat1[i][k] * mat2[k][j]\n",
    "    return result\n",
    "\n",
    "# Raises a matrix to a power using fast exponentiation\n",
    "def raise_to_power(mat, power):\n",
    "    n = len(mat)\n",
    "    # Start with identity matrix\n",
    "    result = [[1 if i == j else 0 for j in range(n)] for i in range(n)]\n",
    "    while power > 0:\n",
    "        if power % 2 == 1:\n",
    "            result = mult(result, mat)\n",
    "        mat = mult(mat, mat)\n",
    "        power //= 2\n",
    "    return result\n",
    "\n",
    "# Prints the matrix\n",
    "def print_matrix(mat):\n",
    "    for row in mat:\n",
    "        print(\" \".join(map(str, row)))\n",
    "\n",
    "# Main part of the program\n",
    "def main():\n",
    "    n = 2  # size of matrix (2x2)\n",
    "    values = [1, 2, 3, 4]  # flat list of numbers\n",
    "    power_value = 3        # raise matrix to this power\n",
    "\n",
    "    matrix = create_matrix(n, values)\n",
    "    result = raise_to_power(matrix, power_value)\n",
    "\n",
    "    print(f\"\\nMatrix raised to power {power_value}:\")\n",
    "    print_matrix(result)\n",
    "\n",
    "if __name__ == \"__main__\":\n",
    "    main()\n"
   ]
  }
 ],
 "metadata": {
  "kernelspec": {
   "display_name": ".venv",
   "language": "python",
   "name": "python3"
  },
  "language_info": {
   "codemirror_mode": {
    "name": "ipython",
    "version": 3
   },
   "file_extension": ".py",
   "mimetype": "text/x-python",
   "name": "python",
   "nbconvert_exporter": "python",
   "pygments_lexer": "ipython3",
   "version": "3.13.1"
  }
 },
 "nbformat": 4,
 "nbformat_minor": 5
}
