{
 "cells": [
  {
   "cell_type": "markdown",
   "id": "d32fc141",
   "metadata": {},
   "source": [
    "#Write a program that accepts a square matrix A and a positive integer m as arguments and \n",
    "returns Am. "
   ]
  },
  {
   "cell_type": "code",
   "execution_count": 1,
   "id": "4badb612",
   "metadata": {},
   "outputs": [
    {
     "name": "stdout",
     "output_type": "stream",
     "text": [
      "\n",
      "Matrix raised to power 3:\n",
      "37 54\n",
      "81 118\n"
     ]
    }
   ],
   "source": [
    "def build_matrix(size, numbers):\n",
    "    if len(numbers) != size * size:\n",
    "        raise ValueError(f\"You must provide exactly {size * size} numbers.\")\n",
    "    return [numbers[i * size:(i + 1) * size] for i in range(size)]\n",
    "\n",
    "def multiply(matrix1, matrix2):\n",
    "    size = len(matrix1)\n",
    "    result = [[0] * size for _ in range(size)]\n",
    "    for i in range(size):\n",
    "        for j in range(size):\n",
    "            for k in range(size):\n",
    "                result[i][j] += matrix1[i][k] * matrix2[k][j]\n",
    "    return result\n",
    "\n",
    "def power(matrix, times):\n",
    "    size = len(matrix)\n",
    "    result = [[1 if i == j else 0 for j in range(size)] for i in range(size)]  # identity matrix\n",
    "    while times > 0:\n",
    "        if times % 2 == 1:\n",
    "            result = multiply(result, matrix)\n",
    "        matrix = multiply(matrix, matrix)\n",
    "        times //= 2\n",
    "    return result\n",
    "\n",
    "def show(matrix):\n",
    "    for row in matrix:\n",
    "        print(\" \".join(map(str, row)))\n",
    "\n",
    "def main():\n",
    "    size = 2\n",
    "    numbers = [1, 2,\n",
    "               3, 4] \n",
    "    times = 3  # Power to raise the matrix to\n",
    "\n",
    "    matrix = build_matrix(size, numbers)\n",
    "    result = power(matrix, times)\n",
    "\n",
    "    print(f\"\\nMatrix raised to power {times}:\")\n",
    "    show(result)\n",
    "\n",
    "\n",
    "if __name__ == \"__main__\":\n",
    "    main()\n"
   ]
  },
  {
   "cell_type": "code",
   "execution_count": null,
   "id": "54c997a8",
   "metadata": {},
   "outputs": [],
   "source": []
  }
 ],
 "metadata": {
  "kernelspec": {
   "display_name": ".venv",
   "language": "python",
   "name": "python3"
  },
  "language_info": {
   "codemirror_mode": {
    "name": "ipython",
    "version": 3
   },
   "file_extension": ".py",
   "mimetype": "text/x-python",
   "name": "python",
   "nbconvert_exporter": "python",
   "pygments_lexer": "ipython3",
   "version": "3.13.1"
  }
 },
 "nbformat": 4,
 "nbformat_minor": 5
}
