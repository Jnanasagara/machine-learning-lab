{
  "nbformat": 4,
  "nbformat_minor": 0,
  "metadata": {
    "colab": {
      "provenance": [],
      "authorship_tag": "ABX9TyM3Yh9iL4H1bEPfzjWoJGzt",
      "include_colab_link": true
    },
    "kernelspec": {
      "name": "python3",
      "display_name": "Python 3"
    },
    "language_info": {
      "name": "python"
    }
  },
  "cells": [
    {
      "cell_type": "markdown",
      "metadata": {
        "id": "view-in-github",
        "colab_type": "text"
      },
      "source": [
        "<a href=\"https://colab.research.google.com/github/Jnanasagara/machine-learning-lab/blob/main/lab9.ipynb\" target=\"_parent\"><img src=\"https://colab.research.google.com/assets/colab-badge.svg\" alt=\"Open In Colab\"/></a>"
      ]
    },
    {
      "cell_type": "code",
      "execution_count": null,
      "metadata": {
        "colab": {
          "base_uri": "https://localhost:8080/"
        },
        "id": "zRB_IZkZF8Yn",
        "outputId": "af066d19-59e9-4ab9-c084-f775f77b9250"
      },
      "outputs": [
        {
          "output_type": "stream",
          "name": "stdout",
          "text": [
            "Mounted at /content/drive\n"
          ]
        }
      ],
      "source": [
        "from google.colab import drive\n",
        "drive.mount('/content/drive')"
      ]
    },
    {
      "cell_type": "code",
      "source": [
        "import pandas as pd\n",
        "import numpy as np\n",
        "from sklearn.model_selection import train_test_split, cross_val_score\n",
        "from sklearn.ensemble import RandomForestClassifier, StackingClassifier\n",
        "from sklearn.linear_model import LogisticRegression\n",
        "from sklearn.svm import SVC\n",
        "from sklearn.pipeline import Pipeline\n",
        "from sklearn.preprocessing import StandardScaler\n",
        "from sklearn.metrics import accuracy_score, precision_score, recall_score, f1_score\n",
        "from lime.lime_tabular import LimeTabularExplainer\n",
        "from sklearn.pipeline import make_pipeline\n",
        "\n",
        "# ----------------- Load dataset -----------------\n",
        "# Ensure the file path is correct for your environment\n",
        "df = pd.read_csv('/content/drive/MyDrive/ml-stuttering-events-dataset/cleaned-sep28k.csv')\n",
        "\n",
        "# Drop any potential unnamed index columns\n",
        "if \"Unnamed: 0\" in df.columns:\n",
        "    df = df.drop(columns=[\"Unnamed: 0\"])\n",
        "\n",
        "# Separate features (X) and target (y)\n",
        "X = df.drop(columns=[\"Stuttering\"])\n",
        "y = df[\"Stuttering\"]\n",
        "\n",
        "# Split data into training and testing sets\n",
        "X_train, X_test, y_train, y_test = train_test_split(\n",
        "    X, y, test_size=0.2, random_state=42, stratify=y\n",
        ")\n",
        "\n",
        "# ----------------- A1 & A2: Stacking Classifier and Pipeline -----------------\n",
        "# Define the base classifiers for the stacking model\n",
        "base_estimators = [\n",
        "    (\"lr\", make_pipeline(StandardScaler(), LogisticRegression(max_iter=2000, solver=\"lbfgs\", random_state=42))),\n",
        "    (\"rf\", RandomForestClassifier(n_estimators=100, random_state=42)),\n",
        "    (\"svc\", make_pipeline(StandardScaler(), SVC(probability=True, random_state=42)))\n",
        "]\n",
        "\n",
        "# Define the meta-model (final estimator)\n",
        "meta_model = LogisticRegression(max_iter=2000, solver=\"lbfgs\", random_state=42)\n",
        "\n",
        "# Create the stacking classifier\n",
        "stacking_classifier = StackingClassifier(\n",
        "    estimators=base_estimators,\n",
        "    final_estimator=meta_model,\n",
        "    cv=5\n",
        ")\n",
        "\n",
        "# Create the main pipeline with a scaler and the stacking classifier\n",
        "pipeline = Pipeline([\n",
        "    (\"scaler\", StandardScaler()),\n",
        "    (\"stacking\", stacking_classifier)\n",
        "])\n",
        "\n",
        "# Train the pipeline\n",
        "pipeline.fit(X_train, y_train)\n",
        "\n",
        "# Make predictions on the test set\n",
        "y_pred = pipeline.predict(X_test)\n",
        "\n",
        "print(\"A1 & A2: Pipeline with Stacking Classifier built and fitted successfully.\\n\")\n",
        "\n",
        "# Evaluate the pipeline's performance\n",
        "metrics = {\n",
        "    \"Accuracy\": accuracy_score(y_test, y_pred),\n",
        "    \"Precision\": precision_score(y_test, y_pred),\n",
        "    \"Recall\": recall_score(y_test, y_pred),\n",
        "    \"F1 Score\": f1_score(y_test, y_pred)\n",
        "}\n",
        "\n",
        "print(\"Model Performance Metrics:\")\n",
        "print(pd.DataFrame([metrics]))\n",
        "\n",
        "# ----------------- A3: LIME Explanation -----------------\n",
        "print(\"\\nA3: LIME Explanation for a single test instance:\")\n",
        "\n",
        "# Initialize the LIME explainer\n",
        "explainer = LimeTabularExplainer(\n",
        "    training_data=X_train.values,\n",
        "    feature_names=X_train.columns.tolist(),\n",
        "    class_names=[\"No Stuttering\", \"Stuttering\"],\n",
        "    mode=\"classification\"\n",
        ")\n",
        "\n",
        "# Pick the first instance from the test set for explanation\n",
        "instance_to_explain = X_test.iloc[0]\n",
        "\n",
        "# Explain the instance's prediction\n",
        "explanation = explainer.explain_instance(\n",
        "    data_row=instance_to_explain.values,\n",
        "    predict_fn=pipeline.predict_proba,\n",
        "    num_features=8\n",
        ")\n",
        "\n",
        "# Get the predicted class using the trained pipeline\n",
        "predicted_class = pipeline.predict(instance_to_explain.values.reshape(1, -1))[0]\n",
        "class_names = [\"No Stuttering\", \"Stuttering\"]\n",
        "predicted_class_name = class_names[predicted_class]\n",
        "\n",
        "print(\"\\nPredicted class:\", predicted_class_name)\n",
        "print(\"Explanation as a list of features and weights:\")\n",
        "print(explanation.as_list())\n",
        "\n",
        "\n"
      ],
      "metadata": {
        "colab": {
          "base_uri": "https://localhost:8080/"
        },
        "id": "-yEBpC5qOVmS",
        "outputId": "af2f3b8c-e169-41fd-fbe9-e0fecb7d32de"
      },
      "execution_count": 22,
      "outputs": [
        {
          "output_type": "stream",
          "name": "stdout",
          "text": [
            "A1 & A2: Pipeline with Stacking Classifier built and fitted successfully.\n",
            "\n",
            "Model Performance Metrics:\n",
            "   Accuracy  Precision  Recall  F1 Score\n",
            "0       1.0        1.0     1.0       1.0\n",
            "\n",
            "A3: LIME Explanation for a single test instance:\n"
          ]
        },
        {
          "output_type": "stream",
          "name": "stderr",
          "text": [
            "/usr/local/lib/python3.12/dist-packages/sklearn/utils/validation.py:2739: UserWarning: X does not have valid feature names, but StandardScaler was fitted with feature names\n",
            "  warnings.warn(\n"
          ]
        },
        {
          "output_type": "stream",
          "name": "stdout",
          "text": [
            "\n",
            "Predicted class: No Stuttering\n",
            "Explanation as a list of features and weights:\n",
            "[('2.00 < NoStutteredWords <= 3.00', -0.8631881250112811), ('WordRep <= 0.00', -0.11182983257101221), ('SoundRep <= 0.00', -0.09991735176597963), ('Block <= 0.00', -0.06221757582412078), ('Prolongation <= 0.00', -0.05730593893970203), ('Interjection <= 0.00', -0.010966064480371887), ('7 > -1.22', -0.007942090422270568), ('1 <= 50.75', -0.004246118574535176)]\n"
          ]
        },
        {
          "output_type": "stream",
          "name": "stderr",
          "text": [
            "/usr/local/lib/python3.12/dist-packages/sklearn/utils/validation.py:2739: UserWarning: X does not have valid feature names, but StandardScaler was fitted with feature names\n",
            "  warnings.warn(\n"
          ]
        }
      ]
    }
  ]
}