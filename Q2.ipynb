{
 "cells": [
  {
   "cell_type": "markdown",
   "id": "594e8592",
   "metadata": {},
   "source": [
    "#Write a program that takes a list of real numbers as input and returns the range (difference \n",
    "between minimum and maximum) of the list. Check for list being less than 3 elements in \n",
    "which case return an error message (Ex: “Range determination not possible”). Given a list \n",
    "[5,3,8,1,0,4], the range is 8 (8-0). "
   ]
  },
  {
   "cell_type": "code",
   "execution_count": null,
   "id": "65a1189b",
   "metadata": {},
   "outputs": [
    {
     "name": "stdout",
     "output_type": "stream",
     "text": [
      "The range is 8 (8-0)\n"
     ]
    }
   ],
   "source": [
    "def range_nums(nums):\n",
    "    max = nums[0]   #Initialize max as the first element in the list\n",
    "    min = nums[0]   #Initialize min as the first element in the list\n",
    "    \n",
    "    for num in nums:\n",
    "        if num > max:\n",
    "            max = num  #Update max if a larger number is found\n",
    "        \n",
    "        if num < min:\n",
    "            min = num  #Update min if a smaller number is found\n",
    "            \n",
    "    return max, min\n",
    "\n",
    "def main():\n",
    "    nums = [5,3,8,1,0,4]\n",
    "    if len(nums) <= 3:\n",
    "        print(\"Range determination not possible\")\n",
    "    else:\n",
    "        max, min = range_nums(nums)\n",
    "\n",
    "    print(\"The range is \" + str(max) + \" (\" + str(max) + \"-\" + str(min) + \")\")\n",
    "\n",
    "if __name__ == \"__main__\":\n",
    "    main()"
   ]
  },
  {
   "cell_type": "code",
   "execution_count": null,
   "id": "9ad3f96f",
   "metadata": {},
   "outputs": [],
   "source": []
  }
 ],
 "metadata": {
  "kernelspec": {
   "display_name": ".venv",
   "language": "python",
   "name": "python3"
  },
  "language_info": {
   "codemirror_mode": {
    "name": "ipython",
    "version": 3
   },
   "file_extension": ".py",
   "mimetype": "text/x-python",
   "name": "python",
   "nbconvert_exporter": "python",
   "pygments_lexer": "ipython3",
   "version": "3.13.1"
  }
 },
 "nbformat": 4,
 "nbformat_minor": 5
}
